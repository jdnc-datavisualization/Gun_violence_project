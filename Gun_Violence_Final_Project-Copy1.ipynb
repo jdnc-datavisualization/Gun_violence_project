{
 "cells": [
  {
   "cell_type": "markdown",
   "metadata": {},
   "source": [
    "# Gun Violence Is Affecting Your Children More Than Ever!"
   ]
  },
  {
   "cell_type": "markdown",
   "metadata": {},
   "source": [
    "# Team Members \n",
    "[Xinran Li](https://github.com/Cindyli0310)\n",
    "\n",
    "[Xin Zou](https://github.com/XZou0803)  \n",
    "\n",
    "[Chia-cheng Lin](https://github.com/82817)\n",
    "\n",
    "[Jui-Chuan Ma](https://github.com/jma4)"
   ]
  },
  {
   "cell_type": "markdown",
   "metadata": {},
   "source": [
    "# 1. Introduction\n",
    "### Narrative Story\n",
    "Parents, whether you support gun control or not, it is imperative for you to understand the state of gun violence in America. We looked closely at datasets containing information about mass shootings, gun deaths, and school shootings.\n",
    "\n",
    "Our first finding is that the motivation behind 64% of mass shooting incidents is due to emotional stress. Emotional stress includes reasons such as a domestic dispute, anger, psychological issues and more. It is extremely dangerous when people can easily have access to guns during an emotional breakdown.\n",
    "\n",
    "In our second finding, we found that children are the biggest victim group of homicide and the smallest victim group of suicide. This is an important issue because children do not have any voice in the topic of gun control, yet, they are the group that suffers the most consequence under gun violence.\n",
    "\n",
    "Last but not least, we see a trend of the incline in school shootings since 1970. One possible reason is that handgun is the most used weapon and they are very easy to conceal. Classroom is a confined space that makes children extremely vulnerable.\n",
    "\n",
    "As a result of these findings, we urge you to carefully think about the topic of gun control. You have the power to make a difference and create a better world for our children."
   ]
  },
  {
   "cell_type": "markdown",
   "metadata": {},
   "source": [
    "### Video  \n",
    "#[![Gun Violence Is Affecting Your Children More Than Ever!](Gun_violence.png)](https://www.youtube.com/watch?v=QumyEe6pXPM&feature=youtu.be)\n",
    "<a href=\"https://www.youtube.com/watch?v=QumyEe6pXPM&feature=youtu.be\"><img src=\"https://github.com/jdnc-datavisualization/Gun_violence_project/blob/master/Gun_violence.png\"></a>"
   ]
  },
  {
   "cell_type": "markdown",
   "metadata": {},
   "source": [
    "# 2. Revsied version with findings and analysis"
   ]
  },
  {
   "cell_type": "markdown",
   "metadata": {},
   "source": [
    "### Finding 1  \n",
    "The motivation behind 64% of mass shooting incidents are due to emotional stress.  \n",
    "![](Finding_1.png)\n",
    "\n",
    "### Analysis\n",
    "We found that over 64% of mass-shootings from 1966 to 2017 were due to problems such as a domestic dispute, anger, and psychological issues. We categorize these problems as the emotional stress of the shooter. Since guns are easy to obtain, people can utilize it when they experience some sort of mental breakdown. If someone exhibits dangerous behavior before the shooting and the motivation was emotional, we should have laws that capitalize on that window and take away gun possession from the potential shooter, especially when a lot of child victims come from these types of incidents."
   ]
  },
  {
   "cell_type": "markdown",
   "metadata": {},
   "source": [
    "### Finding 2  \n",
    "Minors is the highest age group people who deaths under firearm, and the number of homocide in minors is much higher than number of suicide in minors.  \n",
    "![](Finding_2.png)\n",
    "\n",
    "### Analysis\n",
    "Our second visualization shows a terrifying fact that minor age group has the highest rate of being a victim of firearm homicide. The homicide rate is decreased when age is increasing and leads to senior citizens are more likely to die in suicide caused by a firearm. The topic we want to lead out is that the severity of gun violence impacts on United States children and teenagers. According to gun-death dataset, 58 percent are killed by gun-related homicides-about 1,100 per year. Minors are not allowed to vote for firearms control and they are the largest group of gun violence victims. Parents should be aware of how gun violence affects their children and speak up for their kids. Among wealthy, industrialized countries, 91 percent of children under 15 killed by guns die in the United States, according to the National Institutes of Health. The same report found that young Americans (ages 15 to 24) are 49 times more likely to die by gunfire than their peers in other high-income countries. (Kerry Shaw, 2017)"
   ]
  },
  {
   "cell_type": "markdown",
   "metadata": {},
   "source": [
    "### Finding 3  \n",
    "Incidents of campus shooters has been increasing in the last three decades, handgun is the most common weapon in campus shooting.  \n",
    "![](Finding3_1.png) \n",
    "![](Fingding3_2.png)\n",
    "### Analysis\n",
    "Originally, we looked at mass shootings in open and closed areas and found that there are more shootings in closed areas. This makes sense because it is harder to escape in a confined space. The total victims' numbers are much higher than outside building area. Additionally, much inside building tragedy happened in establishments such as school or church; places where minors often go to. We extended this analysis to look strictly into campus shooting. We found that the number of school shootings has been increasing in the last 3 decades. Additionally, we found that handgun is the most used weapon compare to other types of firearm.\n",
    "\n",
    "The two later graphs about school shootings can connect with our first finding. School is often a confined space and people are most likely to be trapped in classrooms. Handgun is the most used weapon because it is easy to conceal. The result is more shooting in schools because the shooter can easily hide a gun to school and students are easy targets."
   ]
  },
  {
   "cell_type": "markdown",
   "metadata": {},
   "source": [
    "# 3. Making of documents"
   ]
  },
  {
   "cell_type": "markdown",
   "metadata": {},
   "source": [
    "Finding 1:  \n",
    "Rechecking the finding one graph, we found that the definition of the emotional issue is not clear. Because the emotional issue can include both positive and negative elements, we only include negatives emotions mentioned in the data. We rename the bar name and title to emotional stress and change bars color to more contrasted. \n",
    "![](Finding_1.png)"
   ]
  },
  {
   "cell_type": "markdown",
   "metadata": {},
   "source": [
    "Finding 2: "
   ]
  },
  {
   "cell_type": "markdown",
   "metadata": {},
   "source": [
    "* Reclearify finding result: Minors is the highest age group people who deaths under firearm, and the number of homicide in minors is much higher than the number of suicide in minors.\n",
    "* We change the screenshot graph to tableau image  \n",
    "![](Finding_2.png)"
   ]
  },
  {
   "cell_type": "markdown",
   "metadata": {
    "slideshow": {
     "slide_type": "fragment"
    }
   },
   "source": [
    "Finding 3:  \n",
    "In our first version, we had a visualization we made from the Mass shooting dataset. We concluded shows that people inside the buildings are more dangerous when Mass shooting occurs. However, we then found that the definition of inside and outside the buildings is not clear. Thus, our conclusion is also not persuasive. So we change this graph to our supporting idea. Below is the inside/outside building graph.  \n",
    "![](Inside.png)\n",
    "\n",
    "Literature inspiration: From [Are School Shootings Becoming More Frequent? We Ran The Numbers](https://www.ideastream.org/news/are-school-shootings-becoming-more-frequent-we-ran-the-numbers) article, since the shooting at Columbine High School in April 1999 there have been 68 school shootings. From 2015 to 2018, the U.S. averaged a school shooting every 77 days.  \n",
    "\n",
    "The first step is to import this dataset into Tableau. Since we want to see the number of shooting on campus across the years. We set the Date as Columns and Number of records as Rows. And we want to see the trend, a trend line is better for the audience to read. Then, the grid in the background is unnecessary here, so we deleted them to make the data-ink ratio higher.  \n",
    "\n",
    "The second thing we want to figure out is how did the shooter get into the campus with weapons, and their purpose of hurt these kids. So we decided to try the Firearm Types to look deep into these shootings, and we found that there are some similar values such as “Handguns” and “Multiple Handguns”. Then we started to consider group them into several groups.  \n",
    "\n",
    "Our first group method is grouping them into “Handguns”, “Rifles”, and “Others”. But the result turns out that “handguns”  were used the most, but “Others” became the second large group. This might cause confusion and the audience may doubt the accuracy of our dataset. So we changed the group method.  \n",
    "\n",
    "Our final group method is grouping them into “Handguns”, “Rifles”, “Combination of Weapons” , “Shotgun” and “Others”. We decide not to change the structure of original values, just group the same ones, such as  “Handguns” and “Multiple Handguns”, and deleted the “Unknowns”. We found that handguns which are easy to conceal is the biggest killer in the shootings on campus, they cause the most number of injured and killed victims.\n"
   ]
  },
  {
   "cell_type": "markdown",
   "metadata": {},
   "source": [
    "# 4. Data"
   ]
  },
  {
   "cell_type": "markdown",
   "metadata": {},
   "source": [
    "### Dataset Discription\n",
    "The first dataset contains information about [gun-deaths](https://www.kaggle.com/hakabuk/gun-deaths-in-the-us) in the US from 2012 to 2014 . This dataset includes information about gun-death in the US in the years 2012-2014. The data includes data regarding the victim's age, sex, race, education, intent, time (month and year) and place of death, and whether or not police was at the place of death.  \n",
    "\n",
    "The second dataset is [mass shootings from 1966 to 2017](https://www.kaggle.com/zusmani/us-mass-shootings-last-50-years), it contains detailed information of 398 mass shootings in the United States of America that killed 1996 and injured 2488 people. Mass Shootings in the United States of America (1966-2017) The US has witnessed 398 mass shootings in last 50 years that resulted in 1,996 deaths and 2,488 injured. The latest and the worst mass shooting of October 2, 2017 killed 58 and injured 515 so far. The number of people injured in this attack is more than the number of people injured in all mass shootings of 2015 and 2016 combined. The average number of mass shootings per year is 7 for the last 50 years that would claim 39 lives and 48 injured per year.  \n",
    "\n",
    "The third dataset is [K-12 School Shooting dataset](https://www.chds.us/ssdb/), the database documents each and every instance a gun is brandished, is fired, or a bullet hits school property for any reason, regardless of the number of victims, time of day, or day of the week. And we downloaded the data from 1970 to 2019(Present), 1374 records in total. Because the dataset is pretty clean, we insert the data directly into Tableau.\n"
   ]
  },
  {
   "cell_type": "markdown",
   "metadata": {},
   "source": [
    "### gun-deaths in the US from 2012 to 2014 Description\n",
    "\n",
    "year: The year in which the fatality occurred.  \n",
    "\n",
    "month: The month in which the fatality occurred.\n",
    "\n",
    "intent : The intent of the perpetrator of the crime. This can be Suicide, Accidental, NA, Homicide, or Undetermined \n",
    "\n",
    "police : Whether a police officer was involved with the shooting. Either 0 (false) or 1 (true)\n",
    "\n",
    "sex : The gender of the victim. Either M or F.\n",
    "\n",
    "age : The age of the victim.\n",
    "\n",
    "race : The race of the victim. Either Asian/Pacific Islander, Native American/Native Alaskan, Black, Hispanic, or White.  \n",
    "\n",
    "hispanic: A code indicating the Hispanic origin of the victim.\n",
    "\n",
    "place : Where the shooting took place\n",
    "\n",
    "education : Educational status of the victim. Can be one of the following: 1: Less than High School 2: Graduated from High School or equivalent 3: Some College 4: At least graduated from College 5: Not available\n",
    "\n",
    "### mass shootings from 1966 to 2017 Discription\n",
    "\n",
    "Location: Location where the shooting took place\n",
    "\n",
    "Date: Date of the shooting\n",
    "\n",
    "Open/Close Location: Inside the building or open space\n",
    "\n",
    "Target: Possible target audience or company  \n",
    "\n",
    "Mental Health Issues: Whether the shooter has a mental health issue\n",
    "\n",
    "Cause: The reason causes the shooting. Terrorism, Hate Crime, Fun (for no obvious reason etc.)  \n",
    "\n",
    "Age: Shooter's age  \n",
    "\n",
    "Employeed (Y/N): Whether the shooter has employeed or not\n",
    " \n",
    "Employed at: Shooter's employeed location\n",
    "\n",
    "Fatalities: Total number of people deceased\n",
    "\n",
    "Injured: Total number of people injured\n",
    "\n",
    "Policeman Killed: Total number of policeman killed in that event\n",
    "\n",
    "Race: Race of the shooter\n",
    "\n",
    "Gender: Gender of the shooter\n",
    "\n",
    "Latitude/Longtitude: Location of the event"
   ]
  },
  {
   "cell_type": "markdown",
   "metadata": {},
   "source": [
    "### K-12 School Shooting Major Variables Description \n",
    "Date: The date that the shooting occurred  \n",
    "\n",
    "Firearm Type: The firearm type that the shooter used  \n",
    "\n",
    "Targeted Specific Victim(s): The shooting is targeted or random  \n",
    "\n",
    "Total Injured/Killed victims: The number of total victims\n"
   ]
  },
  {
   "cell_type": "markdown",
   "metadata": {},
   "source": [
    "### Data Clean Process"
   ]
  },
  {
   "cell_type": "code",
   "execution_count": 1,
   "metadata": {
    "scrolled": true
   },
   "outputs": [],
   "source": [
    "import pandas as pd\n",
    "import numpy as np\n",
    "df_death = pd.read_csv(\"guns.csv\")\n",
    "df_mass = pd.read_csv(\"Mass.csv\", encoding = 'ISO-8859-1')"
   ]
  },
  {
   "cell_type": "markdown",
   "metadata": {},
   "source": [
    "### Part1-Below is the code on how we clean the data for gun-deaths in the US from 2012 to 2014 "
   ]
  },
  {
   "cell_type": "code",
   "execution_count": 2,
   "metadata": {},
   "outputs": [],
   "source": [
    "pd.options.display.max_columns = 999"
   ]
  },
  {
   "cell_type": "code",
   "execution_count": 3,
   "metadata": {},
   "outputs": [
    {
     "data": {
      "text/html": [
       "<div>\n",
       "<style scoped>\n",
       "    .dataframe tbody tr th:only-of-type {\n",
       "        vertical-align: middle;\n",
       "    }\n",
       "\n",
       "    .dataframe tbody tr th {\n",
       "        vertical-align: top;\n",
       "    }\n",
       "\n",
       "    .dataframe thead th {\n",
       "        text-align: right;\n",
       "    }\n",
       "</style>\n",
       "<table border=\"1\" class=\"dataframe\">\n",
       "  <thead>\n",
       "    <tr style=\"text-align: right;\">\n",
       "      <th></th>\n",
       "      <th>Unnamed: 0</th>\n",
       "      <th>year</th>\n",
       "      <th>month</th>\n",
       "      <th>intent</th>\n",
       "      <th>police</th>\n",
       "      <th>sex</th>\n",
       "      <th>age</th>\n",
       "      <th>race</th>\n",
       "      <th>hispanic</th>\n",
       "      <th>place</th>\n",
       "      <th>education</th>\n",
       "    </tr>\n",
       "  </thead>\n",
       "  <tbody>\n",
       "    <tr>\n",
       "      <th>0</th>\n",
       "      <td>1</td>\n",
       "      <td>2012</td>\n",
       "      <td>1</td>\n",
       "      <td>Suicide</td>\n",
       "      <td>0</td>\n",
       "      <td>M</td>\n",
       "      <td>34.0</td>\n",
       "      <td>Asian/Pacific Islander</td>\n",
       "      <td>100</td>\n",
       "      <td>Home</td>\n",
       "      <td>4.0</td>\n",
       "    </tr>\n",
       "    <tr>\n",
       "      <th>1</th>\n",
       "      <td>2</td>\n",
       "      <td>2012</td>\n",
       "      <td>1</td>\n",
       "      <td>Suicide</td>\n",
       "      <td>0</td>\n",
       "      <td>F</td>\n",
       "      <td>21.0</td>\n",
       "      <td>White</td>\n",
       "      <td>100</td>\n",
       "      <td>Street</td>\n",
       "      <td>3.0</td>\n",
       "    </tr>\n",
       "    <tr>\n",
       "      <th>2</th>\n",
       "      <td>3</td>\n",
       "      <td>2012</td>\n",
       "      <td>1</td>\n",
       "      <td>Suicide</td>\n",
       "      <td>0</td>\n",
       "      <td>M</td>\n",
       "      <td>60.0</td>\n",
       "      <td>White</td>\n",
       "      <td>100</td>\n",
       "      <td>Other specified</td>\n",
       "      <td>4.0</td>\n",
       "    </tr>\n",
       "    <tr>\n",
       "      <th>3</th>\n",
       "      <td>4</td>\n",
       "      <td>2012</td>\n",
       "      <td>2</td>\n",
       "      <td>Suicide</td>\n",
       "      <td>0</td>\n",
       "      <td>M</td>\n",
       "      <td>64.0</td>\n",
       "      <td>White</td>\n",
       "      <td>100</td>\n",
       "      <td>Home</td>\n",
       "      <td>4.0</td>\n",
       "    </tr>\n",
       "    <tr>\n",
       "      <th>4</th>\n",
       "      <td>5</td>\n",
       "      <td>2012</td>\n",
       "      <td>2</td>\n",
       "      <td>Suicide</td>\n",
       "      <td>0</td>\n",
       "      <td>M</td>\n",
       "      <td>31.0</td>\n",
       "      <td>White</td>\n",
       "      <td>100</td>\n",
       "      <td>Other specified</td>\n",
       "      <td>2.0</td>\n",
       "    </tr>\n",
       "  </tbody>\n",
       "</table>\n",
       "</div>"
      ],
      "text/plain": [
       "   Unnamed: 0  year  month   intent  police sex   age                    race  \\\n",
       "0           1  2012      1  Suicide       0   M  34.0  Asian/Pacific Islander   \n",
       "1           2  2012      1  Suicide       0   F  21.0                   White   \n",
       "2           3  2012      1  Suicide       0   M  60.0                   White   \n",
       "3           4  2012      2  Suicide       0   M  64.0                   White   \n",
       "4           5  2012      2  Suicide       0   M  31.0                   White   \n",
       "\n",
       "   hispanic            place  education  \n",
       "0       100             Home        4.0  \n",
       "1       100           Street        3.0  \n",
       "2       100  Other specified        4.0  \n",
       "3       100             Home        4.0  \n",
       "4       100  Other specified        2.0  "
      ]
     },
     "execution_count": 3,
     "metadata": {},
     "output_type": "execute_result"
    }
   ],
   "source": [
    "df_death.head()"
   ]
  },
  {
   "cell_type": "code",
   "execution_count": 4,
   "metadata": {},
   "outputs": [
    {
     "data": {
      "text/plain": [
       "Unnamed: 0       0\n",
       "year             0\n",
       "month            0\n",
       "intent           1\n",
       "police           0\n",
       "sex              0\n",
       "age             18\n",
       "race             0\n",
       "hispanic         0\n",
       "place         1384\n",
       "education       53\n",
       "dtype: int64"
      ]
     },
     "execution_count": 4,
     "metadata": {},
     "output_type": "execute_result"
    }
   ],
   "source": [
    "df_death.isna().sum()"
   ]
  },
  {
   "cell_type": "code",
   "execution_count": 5,
   "metadata": {},
   "outputs": [
    {
     "data": {
      "text/plain": [
       "100798"
      ]
     },
     "execution_count": 5,
     "metadata": {},
     "output_type": "execute_result"
    }
   ],
   "source": [
    "len(df_death)"
   ]
  },
  {
   "cell_type": "markdown",
   "metadata": {},
   "source": [
    "This dataset is very clean, and we have 100798 rows of data. We decided to drop the first column because it is useless and all rows that have NA because they only take up a small portion of our data"
   ]
  },
  {
   "cell_type": "code",
   "execution_count": 6,
   "metadata": {},
   "outputs": [],
   "source": [
    "df2 = df_death[df_death.isna().sum(1)==0]"
   ]
  },
  {
   "cell_type": "code",
   "execution_count": 7,
   "metadata": {},
   "outputs": [],
   "source": [
    "df2 = df2.drop(columns={\"Unnamed: 0\"})"
   ]
  },
  {
   "cell_type": "code",
   "execution_count": 8,
   "metadata": {},
   "outputs": [
    {
     "data": {
      "text/plain": [
       "array([100, 281, 211, 998, 261, 210, 222, 282, 260, 270, 231, 237, 200,\n",
       "       223, 226, 275, 250, 234, 280, 227, 224, 286, 233, 271, 220, 225,\n",
       "       235, 242, 212, 221, 239, 299, 232, 291, 217, 252, 209, 238, 218])"
      ]
     },
     "execution_count": 8,
     "metadata": {},
     "output_type": "execute_result"
    }
   ],
   "source": [
    "df2.hispanic.unique()"
   ]
  },
  {
   "cell_type": "markdown",
   "metadata": {},
   "source": [
    "We already have a race column so \"Hispanic\" is not needed"
   ]
  },
  {
   "cell_type": "code",
   "execution_count": 9,
   "metadata": {},
   "outputs": [],
   "source": [
    "df2 = df2.drop(columns={\"hispanic\"})"
   ]
  },
  {
   "cell_type": "code",
   "execution_count": 10,
   "metadata": {},
   "outputs": [
    {
     "data": {
      "text/plain": [
       "array(['Asian/Pacific Islander', 'White',\n",
       "       'Native American/Native Alaskan', 'Black', 'Hispanic'],\n",
       "      dtype=object)"
      ]
     },
     "execution_count": 10,
     "metadata": {},
     "output_type": "execute_result"
    }
   ],
   "source": [
    "df2.race.unique()"
   ]
  },
  {
   "cell_type": "code",
   "execution_count": 11,
   "metadata": {},
   "outputs": [
    {
     "data": {
      "text/plain": [
       "array(['Home', 'Street', 'Other specified', 'Other unspecified',\n",
       "       'Trade/service area', 'Farm', 'Industrial/construction',\n",
       "       'School/instiution', 'Sports', 'Residential institution'],\n",
       "      dtype=object)"
      ]
     },
     "execution_count": 11,
     "metadata": {},
     "output_type": "execute_result"
    }
   ],
   "source": [
    "df2.place.unique()"
   ]
  },
  {
   "cell_type": "code",
   "execution_count": 12,
   "metadata": {},
   "outputs": [
    {
     "data": {
      "text/plain": [
       "array(['Suicide', 'Undetermined', 'Accidental', 'Homicide'], dtype=object)"
      ]
     },
     "execution_count": 12,
     "metadata": {},
     "output_type": "execute_result"
    }
   ],
   "source": [
    "df2.intent.unique()"
   ]
  },
  {
   "cell_type": "code",
   "execution_count": 13,
   "metadata": {},
   "outputs": [
    {
     "data": {
      "text/plain": [
       "array(['M', 'F'], dtype=object)"
      ]
     },
     "execution_count": 13,
     "metadata": {},
     "output_type": "execute_result"
    }
   ],
   "source": [
    "df2.sex.unique()"
   ]
  },
  {
   "cell_type": "code",
   "execution_count": 14,
   "metadata": {},
   "outputs": [
    {
     "data": {
      "text/plain": [
       "array([4., 3., 2., 1., 5.])"
      ]
     },
     "execution_count": 14,
     "metadata": {},
     "output_type": "execute_result"
    }
   ],
   "source": [
    "df2.education.unique()"
   ]
  },
  {
   "cell_type": "markdown",
   "metadata": {},
   "source": [
    "Education is a numeric value, so we decided to put the meaning of the number in the data\n",
    "\n",
    "1: Less than High School \n",
    "\n",
    "2: Graduated from High School or equivalent \n",
    "\n",
    "3: Some College \n",
    "\n",
    "4: At least graduated from College \n",
    "\n",
    "5: Not available"
   ]
  },
  {
   "cell_type": "code",
   "execution_count": 15,
   "metadata": {},
   "outputs": [],
   "source": [
    "df2[\"Education\"] = df2[\"education\"].apply(lambda a: \"Less than High School\" if a == 1.0 else \"Graduated from High School or equivalent\" if a ==2.0\\\n",
    "                      else \"Some College\" if a == 3.0 else \"At least graduated from College\" if a == 4.0 else \"Not available\")"
   ]
  },
  {
   "cell_type": "code",
   "execution_count": 16,
   "metadata": {},
   "outputs": [],
   "source": [
    "df2 = df2.drop(columns=\"education\")"
   ]
  },
  {
   "cell_type": "code",
   "execution_count": 17,
   "metadata": {},
   "outputs": [
    {
     "data": {
      "text/html": [
       "<div>\n",
       "<style scoped>\n",
       "    .dataframe tbody tr th:only-of-type {\n",
       "        vertical-align: middle;\n",
       "    }\n",
       "\n",
       "    .dataframe tbody tr th {\n",
       "        vertical-align: top;\n",
       "    }\n",
       "\n",
       "    .dataframe thead th {\n",
       "        text-align: right;\n",
       "    }\n",
       "</style>\n",
       "<table border=\"1\" class=\"dataframe\">\n",
       "  <thead>\n",
       "    <tr style=\"text-align: right;\">\n",
       "      <th></th>\n",
       "      <th>year</th>\n",
       "      <th>month</th>\n",
       "      <th>intent</th>\n",
       "      <th>police</th>\n",
       "      <th>sex</th>\n",
       "      <th>age</th>\n",
       "      <th>race</th>\n",
       "      <th>place</th>\n",
       "      <th>Education</th>\n",
       "    </tr>\n",
       "  </thead>\n",
       "  <tbody>\n",
       "    <tr>\n",
       "      <th>0</th>\n",
       "      <td>2012</td>\n",
       "      <td>1</td>\n",
       "      <td>Suicide</td>\n",
       "      <td>0</td>\n",
       "      <td>M</td>\n",
       "      <td>34.0</td>\n",
       "      <td>Asian/Pacific Islander</td>\n",
       "      <td>Home</td>\n",
       "      <td>At least graduated from College</td>\n",
       "    </tr>\n",
       "    <tr>\n",
       "      <th>1</th>\n",
       "      <td>2012</td>\n",
       "      <td>1</td>\n",
       "      <td>Suicide</td>\n",
       "      <td>0</td>\n",
       "      <td>F</td>\n",
       "      <td>21.0</td>\n",
       "      <td>White</td>\n",
       "      <td>Street</td>\n",
       "      <td>Some College</td>\n",
       "    </tr>\n",
       "    <tr>\n",
       "      <th>2</th>\n",
       "      <td>2012</td>\n",
       "      <td>1</td>\n",
       "      <td>Suicide</td>\n",
       "      <td>0</td>\n",
       "      <td>M</td>\n",
       "      <td>60.0</td>\n",
       "      <td>White</td>\n",
       "      <td>Other specified</td>\n",
       "      <td>At least graduated from College</td>\n",
       "    </tr>\n",
       "    <tr>\n",
       "      <th>3</th>\n",
       "      <td>2012</td>\n",
       "      <td>2</td>\n",
       "      <td>Suicide</td>\n",
       "      <td>0</td>\n",
       "      <td>M</td>\n",
       "      <td>64.0</td>\n",
       "      <td>White</td>\n",
       "      <td>Home</td>\n",
       "      <td>At least graduated from College</td>\n",
       "    </tr>\n",
       "    <tr>\n",
       "      <th>4</th>\n",
       "      <td>2012</td>\n",
       "      <td>2</td>\n",
       "      <td>Suicide</td>\n",
       "      <td>0</td>\n",
       "      <td>M</td>\n",
       "      <td>31.0</td>\n",
       "      <td>White</td>\n",
       "      <td>Other specified</td>\n",
       "      <td>Graduated from High School or equivalent</td>\n",
       "    </tr>\n",
       "  </tbody>\n",
       "</table>\n",
       "</div>"
      ],
      "text/plain": [
       "   year  month   intent  police sex   age                    race  \\\n",
       "0  2012      1  Suicide       0   M  34.0  Asian/Pacific Islander   \n",
       "1  2012      1  Suicide       0   F  21.0                   White   \n",
       "2  2012      1  Suicide       0   M  60.0                   White   \n",
       "3  2012      2  Suicide       0   M  64.0                   White   \n",
       "4  2012      2  Suicide       0   M  31.0                   White   \n",
       "\n",
       "             place                                 Education  \n",
       "0             Home           At least graduated from College  \n",
       "1           Street                              Some College  \n",
       "2  Other specified           At least graduated from College  \n",
       "3             Home           At least graduated from College  \n",
       "4  Other specified  Graduated from High School or equivalent  "
      ]
     },
     "execution_count": 17,
     "metadata": {},
     "output_type": "execute_result"
    }
   ],
   "source": [
    "df2.head()"
   ]
  },
  {
   "cell_type": "markdown",
   "metadata": {},
   "source": [
    "Double check the cleaning result"
   ]
  },
  {
   "cell_type": "code",
   "execution_count": 18,
   "metadata": {
    "scrolled": false
   },
   "outputs": [
    {
     "data": {
      "text/plain": [
       "year         0\n",
       "month        0\n",
       "intent       0\n",
       "police       0\n",
       "sex          0\n",
       "age          0\n",
       "race         0\n",
       "place        0\n",
       "Education    0\n",
       "dtype: int64"
      ]
     },
     "execution_count": 18,
     "metadata": {},
     "output_type": "execute_result"
    }
   ],
   "source": [
    "df2.isna().sum()"
   ]
  },
  {
   "cell_type": "markdown",
   "metadata": {},
   "source": [
    "##### Ideas that we can explore with the gun-death dataset"
   ]
  },
  {
   "cell_type": "markdown",
   "metadata": {},
   "source": [
    "- Intent of the the shooter \n",
    "- Events where the police was involved\n",
    "- Education of the shooter\n",
    "- Age of the shooter\n",
    "- Time variable compare with all of the variables mentioned above\n"
   ]
  },
  {
   "cell_type": "markdown",
   "metadata": {},
   "source": [
    "### Part 2-Below is the code on how we clean the data for gun-deaths in the US from mass shootings from 1966 to 2017"
   ]
  },
  {
   "cell_type": "markdown",
   "metadata": {},
   "source": [
    "We were curious to see what defines as mass shootings. We investigated the total victim count but the minimum record is as low as 3 victims."
   ]
  },
  {
   "cell_type": "code",
   "execution_count": 19,
   "metadata": {},
   "outputs": [
    {
     "data": {
      "text/plain": [
       "3"
      ]
     },
     "execution_count": 19,
     "metadata": {},
     "output_type": "execute_result"
    }
   ],
   "source": [
    "df_mass['Total victims'].min()"
   ]
  },
  {
   "cell_type": "markdown",
   "metadata": {},
   "source": [
    "Even though the data contains over 50 years of data, the dataset is relatively small with only 323 rows of data. "
   ]
  },
  {
   "cell_type": "code",
   "execution_count": 20,
   "metadata": {},
   "outputs": [
    {
     "data": {
      "text/plain": [
       "323"
      ]
     },
     "execution_count": 20,
     "metadata": {},
     "output_type": "execute_result"
    }
   ],
   "source": [
    "len(df_mass)"
   ]
  },
  {
   "cell_type": "markdown",
   "metadata": {},
   "source": [
    "We believe that this is acceptable given that the nature of mass shooting events does not happen often. There are some interesting variables that we can explore with visualization such as gender, race, number of victims, and how many policeman were killed. We also have time data that we can possibly draw trends from."
   ]
  },
  {
   "cell_type": "code",
   "execution_count": 21,
   "metadata": {
    "scrolled": true
   },
   "outputs": [
    {
     "data": {
      "text/plain": [
       "S#                        0\n",
       "Title                     0\n",
       "Location                 45\n",
       "Date                      0\n",
       "Incident Area            62\n",
       "Open/Close Location      28\n",
       "Target                    5\n",
       "Cause                    77\n",
       "Summary                   0\n",
       "Fatalities                0\n",
       "Injured                   0\n",
       "Total victims             0\n",
       "Policeman Killed          6\n",
       "Age                     144\n",
       "Employeed (Y/N)         256\n",
       "Employed at             282\n",
       "Mental Health Issues      0\n",
       "Race                      2\n",
       "Gender                    0\n",
       "Latitude                 20\n",
       "Longitude                20\n",
       "dtype: int64"
      ]
     },
     "execution_count": 21,
     "metadata": {},
     "output_type": "execute_result"
    }
   ],
   "source": [
    "df_mass.isna().sum()"
   ]
  },
  {
   "cell_type": "markdown",
   "metadata": {},
   "source": [
    "We decided to drop columns that have a lot of NAs, as well as columns that are not useful in our upcoming visualization"
   ]
  },
  {
   "cell_type": "markdown",
   "metadata": {},
   "source": [
    "For the \"Location\", we unified them into just State Code for the better statistic."
   ]
  },
  {
   "cell_type": "code",
   "execution_count": 22,
   "metadata": {},
   "outputs": [],
   "source": [
    "us_state_abbrev = {\n",
    "    'Alabama': 'AL',\n",
    "    'Alaska': 'AK',\n",
    "    'Arizona': 'AZ',\n",
    "    'Arkansas': 'AR',\n",
    "    'California': 'CA',\n",
    "    'Colorado': 'CO',\n",
    "    'Connecticut': 'CT',\n",
    "    'Delaware': 'DE',\n",
    "    'Florida': 'FL',\n",
    "    'Georgia': 'GA',\n",
    "    'Hawaii': 'HI',\n",
    "    'Idaho': 'ID',\n",
    "    'Illinois': 'IL',\n",
    "    'Indiana': 'IN',\n",
    "    'Iowa': 'IA',\n",
    "    'Kansas': 'KS',\n",
    "    'Kentucky': 'KY',\n",
    "    'Louisiana': 'LA',\n",
    "    'Maine': 'ME',\n",
    "    'Maryland': 'MD',\n",
    "    'Massachusetts': 'MA',\n",
    "    'Michigan': 'MI',\n",
    "    'Minnesota': 'MN',\n",
    "    'Mississippi': 'MS',\n",
    "    'Missouri': 'MO',\n",
    "    'Montana': 'MT',\n",
    "    'Nebraska': 'NE',\n",
    "    'Nevada': 'NV',\n",
    "    'New Hampshire': 'NH',\n",
    "    'New Jersey': 'NJ',\n",
    "    'New Mexico': 'NM',\n",
    "    'New York': 'NY',\n",
    "    'North Carolina': 'NC',\n",
    "    'North Dakota': 'ND',\n",
    "    'Ohio': 'OH',\n",
    "    'Oklahoma': 'OK',\n",
    "    'Oregon': 'OR',\n",
    "    'Pennsylvania': 'PA',\n",
    "    'Rhode Island': 'RI',\n",
    "    'South Carolina': 'SC',\n",
    "    'South Dakota': 'SD',\n",
    "    'Tennessee': 'TN',\n",
    "    'Texas': 'TX',\n",
    "    'Utah': 'UT',\n",
    "    'Vermont': 'VT',\n",
    "    'Virginia': 'VA',\n",
    "    'Washington': 'WA',\n",
    "    'West Virginia': 'WV',\n",
    "    'Wisconsin': 'WI',\n",
    "    'Wyoming': 'WY',\n",
    "}"
   ]
  },
  {
   "cell_type": "code",
   "execution_count": 23,
   "metadata": {},
   "outputs": [],
   "source": [
    "df1 = df_mass.drop(columns = ['Age','Employeed (Y/N)','Employed at','Incident Area','S#','Title','Summary','Mental Health Issues'])"
   ]
  },
  {
   "cell_type": "code",
   "execution_count": 24,
   "metadata": {},
   "outputs": [],
   "source": [
    "df1[\"State\"] = df1['Location'].apply(\n",
    "    lambda location: location.split(',')[-1].strip() if isinstance(location, str) else location\n",
    ")"
   ]
  },
  {
   "cell_type": "code",
   "execution_count": 25,
   "metadata": {},
   "outputs": [],
   "source": [
    "df1['State'] = df1[\"State\"].apply(\n",
    "    lambda state: us_state_abbrev[state] if state in us_state_abbrev else state\n",
    ")"
   ]
  },
  {
   "cell_type": "code",
   "execution_count": 26,
   "metadata": {},
   "outputs": [],
   "source": [
    "df1 = df1.drop(columns=\"Location\")"
   ]
  },
  {
   "cell_type": "code",
   "execution_count": 27,
   "metadata": {},
   "outputs": [
    {
     "data": {
      "text/html": [
       "<div>\n",
       "<style scoped>\n",
       "    .dataframe tbody tr th:only-of-type {\n",
       "        vertical-align: middle;\n",
       "    }\n",
       "\n",
       "    .dataframe tbody tr th {\n",
       "        vertical-align: top;\n",
       "    }\n",
       "\n",
       "    .dataframe thead th {\n",
       "        text-align: right;\n",
       "    }\n",
       "</style>\n",
       "<table border=\"1\" class=\"dataframe\">\n",
       "  <thead>\n",
       "    <tr style=\"text-align: right;\">\n",
       "      <th></th>\n",
       "      <th>Date</th>\n",
       "      <th>Open/Close Location</th>\n",
       "      <th>Target</th>\n",
       "      <th>Cause</th>\n",
       "      <th>Fatalities</th>\n",
       "      <th>Injured</th>\n",
       "      <th>Total victims</th>\n",
       "      <th>Policeman Killed</th>\n",
       "      <th>Race</th>\n",
       "      <th>Gender</th>\n",
       "      <th>Latitude</th>\n",
       "      <th>Longitude</th>\n",
       "      <th>State</th>\n",
       "    </tr>\n",
       "  </thead>\n",
       "  <tbody>\n",
       "    <tr>\n",
       "      <th>0</th>\n",
       "      <td>11/5/2017</td>\n",
       "      <td>Close</td>\n",
       "      <td>random</td>\n",
       "      <td>unknown</td>\n",
       "      <td>26</td>\n",
       "      <td>20</td>\n",
       "      <td>46</td>\n",
       "      <td>0.0</td>\n",
       "      <td>White</td>\n",
       "      <td>M</td>\n",
       "      <td>NaN</td>\n",
       "      <td>NaN</td>\n",
       "      <td>TX</td>\n",
       "    </tr>\n",
       "    <tr>\n",
       "      <th>1</th>\n",
       "      <td>11/1/2017</td>\n",
       "      <td>Open</td>\n",
       "      <td>random</td>\n",
       "      <td>unknown</td>\n",
       "      <td>3</td>\n",
       "      <td>0</td>\n",
       "      <td>3</td>\n",
       "      <td>0.0</td>\n",
       "      <td>White</td>\n",
       "      <td>M</td>\n",
       "      <td>NaN</td>\n",
       "      <td>NaN</td>\n",
       "      <td>CO</td>\n",
       "    </tr>\n",
       "    <tr>\n",
       "      <th>2</th>\n",
       "      <td>10/18/2017</td>\n",
       "      <td>Close</td>\n",
       "      <td>coworkers</td>\n",
       "      <td>unknown</td>\n",
       "      <td>3</td>\n",
       "      <td>3</td>\n",
       "      <td>6</td>\n",
       "      <td>0.0</td>\n",
       "      <td>Black</td>\n",
       "      <td>M</td>\n",
       "      <td>NaN</td>\n",
       "      <td>NaN</td>\n",
       "      <td>MD</td>\n",
       "    </tr>\n",
       "    <tr>\n",
       "      <th>3</th>\n",
       "      <td>10/1/2017</td>\n",
       "      <td>Open</td>\n",
       "      <td>random</td>\n",
       "      <td>unknown</td>\n",
       "      <td>59</td>\n",
       "      <td>527</td>\n",
       "      <td>585</td>\n",
       "      <td>1.0</td>\n",
       "      <td>White</td>\n",
       "      <td>M</td>\n",
       "      <td>36.181271</td>\n",
       "      <td>-115.134132</td>\n",
       "      <td>NV</td>\n",
       "    </tr>\n",
       "    <tr>\n",
       "      <th>4</th>\n",
       "      <td>6/14/2017</td>\n",
       "      <td>Close</td>\n",
       "      <td>coworkers</td>\n",
       "      <td>NaN</td>\n",
       "      <td>3</td>\n",
       "      <td>2</td>\n",
       "      <td>5</td>\n",
       "      <td>0.0</td>\n",
       "      <td>Asian</td>\n",
       "      <td>M</td>\n",
       "      <td>NaN</td>\n",
       "      <td>NaN</td>\n",
       "      <td>CA</td>\n",
       "    </tr>\n",
       "    <tr>\n",
       "      <th>5</th>\n",
       "      <td>6/7/2017</td>\n",
       "      <td>Close</td>\n",
       "      <td>coworkers</td>\n",
       "      <td>terrorism</td>\n",
       "      <td>3</td>\n",
       "      <td>0</td>\n",
       "      <td>3</td>\n",
       "      <td>NaN</td>\n",
       "      <td>White</td>\n",
       "      <td>M</td>\n",
       "      <td>NaN</td>\n",
       "      <td>NaN</td>\n",
       "      <td>PA</td>\n",
       "    </tr>\n",
       "    <tr>\n",
       "      <th>6</th>\n",
       "      <td>6/5/2017</td>\n",
       "      <td>Close</td>\n",
       "      <td>coworkers</td>\n",
       "      <td>unemployement</td>\n",
       "      <td>5</td>\n",
       "      <td>0</td>\n",
       "      <td>5</td>\n",
       "      <td>NaN</td>\n",
       "      <td>NaN</td>\n",
       "      <td>M</td>\n",
       "      <td>NaN</td>\n",
       "      <td>NaN</td>\n",
       "      <td>FL</td>\n",
       "    </tr>\n",
       "    <tr>\n",
       "      <th>7</th>\n",
       "      <td>5/12/2017</td>\n",
       "      <td>Close</td>\n",
       "      <td>coworkers</td>\n",
       "      <td>NaN</td>\n",
       "      <td>3</td>\n",
       "      <td>0</td>\n",
       "      <td>3</td>\n",
       "      <td>1.0</td>\n",
       "      <td>White</td>\n",
       "      <td>M</td>\n",
       "      <td>NaN</td>\n",
       "      <td>NaN</td>\n",
       "      <td>OH</td>\n",
       "    </tr>\n",
       "    <tr>\n",
       "      <th>8</th>\n",
       "      <td>4/18/2017</td>\n",
       "      <td>Open</td>\n",
       "      <td>random</td>\n",
       "      <td>racism</td>\n",
       "      <td>3</td>\n",
       "      <td>0</td>\n",
       "      <td>3</td>\n",
       "      <td>NaN</td>\n",
       "      <td>Black</td>\n",
       "      <td>M</td>\n",
       "      <td>NaN</td>\n",
       "      <td>NaN</td>\n",
       "      <td>CA</td>\n",
       "    </tr>\n",
       "    <tr>\n",
       "      <th>9</th>\n",
       "      <td>1/6/2017</td>\n",
       "      <td>Close</td>\n",
       "      <td>random</td>\n",
       "      <td>terrorism</td>\n",
       "      <td>5</td>\n",
       "      <td>6</td>\n",
       "      <td>11</td>\n",
       "      <td>NaN</td>\n",
       "      <td>Latino</td>\n",
       "      <td>M</td>\n",
       "      <td>NaN</td>\n",
       "      <td>NaN</td>\n",
       "      <td>FL</td>\n",
       "    </tr>\n",
       "  </tbody>\n",
       "</table>\n",
       "</div>"
      ],
      "text/plain": [
       "         Date Open/Close Location     Target          Cause  Fatalities  \\\n",
       "0   11/5/2017               Close     random        unknown          26   \n",
       "1   11/1/2017                Open     random        unknown           3   \n",
       "2  10/18/2017               Close  coworkers        unknown           3   \n",
       "3   10/1/2017                Open     random        unknown          59   \n",
       "4   6/14/2017               Close  coworkers            NaN           3   \n",
       "5    6/7/2017               Close  coworkers      terrorism           3   \n",
       "6    6/5/2017               Close  coworkers  unemployement           5   \n",
       "7   5/12/2017               Close  coworkers            NaN           3   \n",
       "8   4/18/2017                Open     random         racism           3   \n",
       "9    1/6/2017               Close     random      terrorism           5   \n",
       "\n",
       "   Injured  Total victims  Policeman Killed    Race Gender   Latitude  \\\n",
       "0       20             46               0.0   White      M        NaN   \n",
       "1        0              3               0.0   White      M        NaN   \n",
       "2        3              6               0.0   Black      M        NaN   \n",
       "3      527            585               1.0   White      M  36.181271   \n",
       "4        2              5               0.0   Asian      M        NaN   \n",
       "5        0              3               NaN   White      M        NaN   \n",
       "6        0              5               NaN     NaN      M        NaN   \n",
       "7        0              3               1.0   White      M        NaN   \n",
       "8        0              3               NaN   Black      M        NaN   \n",
       "9        6             11               NaN  Latino      M        NaN   \n",
       "\n",
       "    Longitude State  \n",
       "0         NaN    TX  \n",
       "1         NaN    CO  \n",
       "2         NaN    MD  \n",
       "3 -115.134132    NV  \n",
       "4         NaN    CA  \n",
       "5         NaN    PA  \n",
       "6         NaN    FL  \n",
       "7         NaN    OH  \n",
       "8         NaN    CA  \n",
       "9         NaN    FL  "
      ]
     },
     "execution_count": 27,
     "metadata": {},
     "output_type": "execute_result"
    }
   ],
   "source": [
    "df1.head(10)"
   ]
  },
  {
   "cell_type": "code",
   "execution_count": 28,
   "metadata": {},
   "outputs": [
    {
     "data": {
      "text/plain": [
       "45"
      ]
     },
     "execution_count": 28,
     "metadata": {},
     "output_type": "execute_result"
    }
   ],
   "source": [
    "df1['State'].isna().sum()"
   ]
  },
  {
   "cell_type": "code",
   "execution_count": 29,
   "metadata": {},
   "outputs": [
    {
     "data": {
      "text/plain": [
       "array(['unknown', nan, 'terrorism', 'unemployement', 'racism',\n",
       "       'frustration', 'domestic dispute', 'anger', 'psycho', 'revenge',\n",
       "       'domestic disputer', 'suspension', 'religious radicalism', 'drunk',\n",
       "       'failing exams', 'breakup', 'robbery'], dtype=object)"
      ]
     },
     "execution_count": 29,
     "metadata": {},
     "output_type": "execute_result"
    }
   ],
   "source": [
    "df1.Cause.unique()"
   ]
  },
  {
   "cell_type": "markdown",
   "metadata": {},
   "source": [
    "We simplified the race into six categories\n",
    "\n",
    "White, African American, Asian, Latino, Native America, and Others"
   ]
  },
  {
   "cell_type": "code",
   "execution_count": 30,
   "metadata": {},
   "outputs": [],
   "source": [
    "##White\n",
    "df1.replace({'Race':['White American or European American','white','White','White American or European American/Some other Race']},'White',inplace=True)\n",
    "##Black \n",
    "df1.replace({'Race':['Black American or African American','Black','black','Black American or African American/Unknown']},'African American',inplace=True)\n",
    "##Asian\n",
    "df1.replace({'Race':['Asian American','Asian','Asian American/Some other race']},'Asian',inplace=True)\n",
    "##Other\n",
    "df1.replace({'Race':['Unknown','Some other race','Other','Two or more races']},'Other',inplace=True)\n"
   ]
  },
  {
   "cell_type": "code",
   "execution_count": 31,
   "metadata": {},
   "outputs": [
    {
     "data": {
      "text/plain": [
       "White                               144\n",
       "African American                     85\n",
       "Other                                66\n",
       "Asian                                18\n",
       "Latino                                5\n",
       "Native American or Alaska Native      3\n",
       "Name: Race, dtype: int64"
      ]
     },
     "execution_count": 31,
     "metadata": {},
     "output_type": "execute_result"
    }
   ],
   "source": [
    "df1.Race.value_counts()"
   ]
  },
  {
   "cell_type": "code",
   "execution_count": 32,
   "metadata": {
    "scrolled": false
   },
   "outputs": [
    {
     "data": {
      "text/html": [
       "<div>\n",
       "<style scoped>\n",
       "    .dataframe tbody tr th:only-of-type {\n",
       "        vertical-align: middle;\n",
       "    }\n",
       "\n",
       "    .dataframe tbody tr th {\n",
       "        vertical-align: top;\n",
       "    }\n",
       "\n",
       "    .dataframe thead th {\n",
       "        text-align: right;\n",
       "    }\n",
       "</style>\n",
       "<table border=\"1\" class=\"dataframe\">\n",
       "  <thead>\n",
       "    <tr style=\"text-align: right;\">\n",
       "      <th></th>\n",
       "      <th>Date</th>\n",
       "      <th>Open/Close Location</th>\n",
       "      <th>Target</th>\n",
       "      <th>Cause</th>\n",
       "      <th>Fatalities</th>\n",
       "      <th>Injured</th>\n",
       "      <th>Total victims</th>\n",
       "      <th>Policeman Killed</th>\n",
       "      <th>Race</th>\n",
       "      <th>Gender</th>\n",
       "      <th>Latitude</th>\n",
       "      <th>Longitude</th>\n",
       "      <th>State</th>\n",
       "    </tr>\n",
       "  </thead>\n",
       "  <tbody>\n",
       "    <tr>\n",
       "      <th>0</th>\n",
       "      <td>11/5/2017</td>\n",
       "      <td>Close</td>\n",
       "      <td>random</td>\n",
       "      <td>unknown</td>\n",
       "      <td>26</td>\n",
       "      <td>20</td>\n",
       "      <td>46</td>\n",
       "      <td>0.0</td>\n",
       "      <td>White</td>\n",
       "      <td>M</td>\n",
       "      <td>NaN</td>\n",
       "      <td>NaN</td>\n",
       "      <td>TX</td>\n",
       "    </tr>\n",
       "    <tr>\n",
       "      <th>1</th>\n",
       "      <td>11/1/2017</td>\n",
       "      <td>Open</td>\n",
       "      <td>random</td>\n",
       "      <td>unknown</td>\n",
       "      <td>3</td>\n",
       "      <td>0</td>\n",
       "      <td>3</td>\n",
       "      <td>0.0</td>\n",
       "      <td>White</td>\n",
       "      <td>M</td>\n",
       "      <td>NaN</td>\n",
       "      <td>NaN</td>\n",
       "      <td>CO</td>\n",
       "    </tr>\n",
       "    <tr>\n",
       "      <th>2</th>\n",
       "      <td>10/18/2017</td>\n",
       "      <td>Close</td>\n",
       "      <td>coworkers</td>\n",
       "      <td>unknown</td>\n",
       "      <td>3</td>\n",
       "      <td>3</td>\n",
       "      <td>6</td>\n",
       "      <td>0.0</td>\n",
       "      <td>African American</td>\n",
       "      <td>M</td>\n",
       "      <td>NaN</td>\n",
       "      <td>NaN</td>\n",
       "      <td>MD</td>\n",
       "    </tr>\n",
       "    <tr>\n",
       "      <th>3</th>\n",
       "      <td>10/1/2017</td>\n",
       "      <td>Open</td>\n",
       "      <td>random</td>\n",
       "      <td>unknown</td>\n",
       "      <td>59</td>\n",
       "      <td>527</td>\n",
       "      <td>585</td>\n",
       "      <td>1.0</td>\n",
       "      <td>White</td>\n",
       "      <td>M</td>\n",
       "      <td>36.181271</td>\n",
       "      <td>-115.134132</td>\n",
       "      <td>NV</td>\n",
       "    </tr>\n",
       "    <tr>\n",
       "      <th>4</th>\n",
       "      <td>6/14/2017</td>\n",
       "      <td>Close</td>\n",
       "      <td>coworkers</td>\n",
       "      <td>NaN</td>\n",
       "      <td>3</td>\n",
       "      <td>2</td>\n",
       "      <td>5</td>\n",
       "      <td>0.0</td>\n",
       "      <td>Asian</td>\n",
       "      <td>M</td>\n",
       "      <td>NaN</td>\n",
       "      <td>NaN</td>\n",
       "      <td>CA</td>\n",
       "    </tr>\n",
       "  </tbody>\n",
       "</table>\n",
       "</div>"
      ],
      "text/plain": [
       "         Date Open/Close Location     Target    Cause  Fatalities  Injured  \\\n",
       "0   11/5/2017               Close     random  unknown          26       20   \n",
       "1   11/1/2017                Open     random  unknown           3        0   \n",
       "2  10/18/2017               Close  coworkers  unknown           3        3   \n",
       "3   10/1/2017                Open     random  unknown          59      527   \n",
       "4   6/14/2017               Close  coworkers      NaN           3        2   \n",
       "\n",
       "   Total victims  Policeman Killed              Race Gender   Latitude  \\\n",
       "0             46               0.0             White      M        NaN   \n",
       "1              3               0.0             White      M        NaN   \n",
       "2              6               0.0  African American      M        NaN   \n",
       "3            585               1.0             White      M  36.181271   \n",
       "4              5               0.0             Asian      M        NaN   \n",
       "\n",
       "    Longitude State  \n",
       "0         NaN    TX  \n",
       "1         NaN    CO  \n",
       "2         NaN    MD  \n",
       "3 -115.134132    NV  \n",
       "4         NaN    CA  "
      ]
     },
     "execution_count": 32,
     "metadata": {},
     "output_type": "execute_result"
    }
   ],
   "source": [
    "df1.head()"
   ]
  },
  {
   "cell_type": "markdown",
   "metadata": {},
   "source": [
    "We decided to leave NAs on some columns because it does not affect the drawing of our visualization. Also, since our dataset is small, it will affect our dataset dramatically. "
   ]
  },
  {
   "cell_type": "code",
   "execution_count": 33,
   "metadata": {},
   "outputs": [
    {
     "data": {
      "text/plain": [
       "Date                    0\n",
       "Open/Close Location    28\n",
       "Target                  5\n",
       "Cause                  77\n",
       "Fatalities              0\n",
       "Injured                 0\n",
       "Total victims           0\n",
       "Policeman Killed        6\n",
       "Race                    2\n",
       "Gender                  0\n",
       "Latitude               20\n",
       "Longitude              20\n",
       "State                  45\n",
       "dtype: int64"
      ]
     },
     "execution_count": 33,
     "metadata": {},
     "output_type": "execute_result"
    }
   ],
   "source": [
    "df1.isna().sum()"
   ]
  },
  {
   "cell_type": "markdown",
   "metadata": {},
   "source": [
    "##### Ideas that we can explore with the mass shooting dataset"
   ]
  },
  {
   "cell_type": "markdown",
   "metadata": {},
   "source": [
    "- Location of the event, along with numbers of victims that are injured and deceased\n",
    "- Number of victims that are injured and deceased over time\n",
    "- How many Policeman was killed\n",
    "- Count of the race and gender of the shooter over time\n"
   ]
  },
  {
   "cell_type": "markdown",
   "metadata": {},
   "source": [
    "# 5. Summary"
   ]
  },
  {
   "cell_type": "markdown",
   "metadata": {},
   "source": [
    "### Limitations\n",
    "\n",
    "* The data range of Gun-deaths in the US from 2012 to 2014 dataset is very limited, only contains three years information. If we can find more years data, the finding result is more persuasive.  \n",
    "\n",
    "* Three of our graphs use bar chart because it is the best way to explain the finding. We figure bar charts could best express our ideas about firearm violence.\n",
    "\n",
    "* K-12 dataset contains tremendous information that we did not explore due to constraints of time and project layout.\n",
    "\n",
    "### Suggestions\n",
    "\n",
    "In order to decrease minors' injury number from gun violence, here are two different side suggestions to parents based on the article \"Keeping Our Schools Safe: A Plan to Stop Mass Shootings and End Gun Violence in American Schools\":  \n",
    "\n",
    "**Suggestion 1**: Parents suggestions to schools\n",
    "a. Establishing threat assessment programs in schools to understand and intervene whether students are a risk to themselves or others.\n",
    "b. Implementing basic security upgrades to prevent access to schools and classrooms. (Ex. metal detectors)\n",
    "c. More situation rehearsal for emergencies so staff can immediately lock out schools and law enforcement can respond quickly.\n",
    "d. Establishing safe and equitable campus to reduce gun violence impacting on children, especially in high-risk communities.\n",
    "e. Building a supportive school environment. Instead of hardening the school, it is better to lower the background levels of bullying and discrimination and track the data and perform threat assessments on potential risks.\n",
    "\n",
    "**Suggestion 2**: Parents suggestions to gun control group\n",
    "a. Pass Red Flag Laws. Red Flag laws is that law enforcement and family members can act on warning signs of violence, like those that repeatedly occurred in Parkland, and temporarily prevent access to firearms;\n",
    "b. Encourage and propagandize responsible firearm storage\n",
    "c. Raise the firearms sales tax and establish a safe campus program that uses part of sales tax generating from gun sales to support the program expenses.\n"
   ]
  },
  {
   "cell_type": "markdown",
   "metadata": {},
   "source": [
    "# 6. References  \n",
    "1. Lopez, German. \"2018 was by far the worst year on record for gun violence in schools.\" VOX, \n",
    "     www.vox.com/2018/12/10/18134232/gun-violence-schools-mass-shootings. \n",
    "\n",
    "2. \"Keeping Our Schools Safe: A Plan to Stop Mass Shootings and End Gun Violence in American Schools.\" \n",
    "     Everytown for Gun Safety Support Fund, https://everytownresearch.org/reports/keeping-schools-safe-plan-stop-mass-shootings-end-gun-violence-american-schools/\n",
    "\n",
    "3. Kerry Shaw, \"14 Facts That Show How Gun Violence Affects American Kids\",https://www.thetrace.org/2017/07/gun-violence-america-children-kids-facts/\n"
   ]
  },
  {
   "cell_type": "markdown",
   "metadata": {},
   "source": [
    "# 7. Tableau Link  \n",
    "https://public.tableau.com/profile/nina.zou#!/vizhome/GunViolenceIsAffectingYourChildrenMoreThanEver/V2?publish=yes"
   ]
  }
 ],
 "metadata": {
  "kernelspec": {
   "display_name": "Python 3",
   "language": "python",
   "name": "python3"
  },
  "language_info": {
   "codemirror_mode": {
    "name": "ipython",
    "version": 3
   },
   "file_extension": ".py",
   "mimetype": "text/x-python",
   "name": "python",
   "nbconvert_exporter": "python",
   "pygments_lexer": "ipython3",
   "version": "3.7.1"
  }
 },
 "nbformat": 4,
 "nbformat_minor": 2
}
